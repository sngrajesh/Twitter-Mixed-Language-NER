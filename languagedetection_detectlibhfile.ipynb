{
 "cells": [
  {
   "cell_type": "code",
   "execution_count": 1,
   "metadata": {},
   "outputs": [
    {
     "name": "stderr",
     "output_type": "stream",
     "text": [
      "C:\\Users\\DELL\\AppData\\Roaming\\Python\\Python310\\site-packages\\tqdm\\auto.py:21: TqdmWarning: IProgress not found. Please update jupyter and ipywidgets. See https://ipywidgets.readthedocs.io/en/stable/user_install.html\n",
      "  from .autonotebook import tqdm as notebook_tqdm\n"
     ]
    },
    {
     "name": "stdout",
     "output_type": "stream",
     "text": [
      "mar_Deva\n",
      "Translated text: माझे मन आनंदी आहे, पण अजून काम बाकी आहे!\n"
     ]
    }
   ],
   "source": [
    "from langdetect import detect\n",
    "from transformers import AutoModelForSeq2SeqLM, AutoTokenizer\n",
    "\n",
    "# Load the translation model and tokenizer\n",
    "tokenizer = AutoTokenizer.from_pretrained(\"facebook/nllb-200-distilled-600M\")\n",
    "model = AutoModelForSeq2SeqLM.from_pretrained(\"facebook/nllb-200-distilled-600M\")\n",
    "\n",
    "# Mapping from detected language to NLLB-200 language codes\n",
    "# Mapping from detected language to NLLB-200 language codes\n",
    "lang_code_mapping = {\n",
    "    \"en\": \"eng_Latn\",  # English\n",
    "    \"hi\": \"hin_Deva\",  # Hindi\n",
    "    \"gu\": \"guj_Gujr\",  # Gujarati\n",
    "    \"mr\": \"mar_Deva\",  # Marathi\n",
    "    \"te\": \"tel_Telu\",  # Telugu\n",
    "    \"ur\": \"urd_Arab\"   # Hyderabadi (Dakhini Urdu uses Urdu script)\n",
    "    # Add more mappings if needed\n",
    "}\n",
    "\n",
    "def predominant_language(sentence):\n",
    "    words = sentence.split()  # Tokenize by space\n",
    "    language_counts = {}\n",
    "\n",
    "    for word in words:\n",
    "        try:\n",
    "            lang = detect(word)  # Detect language\n",
    "            language_counts[lang] = language_counts.get(lang, 0) + 1\n",
    "        except:\n",
    "            pass  # Ignore errors\n",
    "\n",
    "    if not language_counts:\n",
    "        return \"Unknown\"\n",
    "\n",
    "    predominant = max(language_counts, key=language_counts.get)\n",
    "\n",
    "    # Get corresponding language code for NLLB-200\n",
    "    return lang_code_mapping.get(predominant, \"eng_Latn\")  # Default to English if not found\n",
    "\n",
    "# sentence = \"मुझे hungry लगी है\"  # Mixed Gujarati and English\n",
    "# sentence = \"mera name hemanshi\"\n",
    "sentence = \"माझं मन खुश है, पण अजून काम बाकी है!\"\n",
    "# sentence = \"Kal maine ek amazing movie dekhi, it was full of action and drama!\"\n",
    "\n",
    "# Detect predominant language\n",
    "detected_lang_code = predominant_language(sentence)\n",
    "\n",
    "# Tokenize input\n",
    "inputs = tokenizer(sentence, return_tensors=\"pt\")\n",
    "\n",
    "# Translate to the detected language\n",
    "translated_tokens = model.generate(\n",
    "    **inputs, forced_bos_token_id=tokenizer.convert_tokens_to_ids(detected_lang_code), max_length=30\n",
    ")\n",
    "\n",
    "# Decode and print translation\n",
    "result = tokenizer.batch_decode(translated_tokens, skip_special_tokens=True)\n",
    "print(detected_lang_code)\n",
    "print(f\"Translated text: {result[0]}\")\n"
   ]
  }
 ],
 "metadata": {
  "kernelspec": {
   "display_name": "Python 3",
   "language": "python",
   "name": "python3"
  },
  "language_info": {
   "codemirror_mode": {
    "name": "ipython",
    "version": 3
   },
   "file_extension": ".py",
   "mimetype": "text/x-python",
   "name": "python",
   "nbconvert_exporter": "python",
   "pygments_lexer": "ipython3",
   "version": "3.10.4"
  }
 },
 "nbformat": 4,
 "nbformat_minor": 2
}
